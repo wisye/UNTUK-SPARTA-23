{
 "cells": [
  {
   "cell_type": "markdown",
   "metadata": {},
   "source": [
    "# BINOMIAL\n",
    "> Sistem komunikasi"
   ]
  },
  {
   "cell_type": "code",
   "execution_count": 1,
   "metadata": {},
   "outputs": [],
   "source": [
    "from scipy.stats import binom\n",
    "# dik:\n",
    "'''USAGE'''\n",
    "\n",
    "p = 0.82\n",
    "n = 11\n",
    "\n",
    "q = 1-p"
   ]
  },
  {
   "cell_type": "markdown",
   "metadata": {},
   "source": [
    "```CDF: F(x)```\n",
    "\n",
    "```PMF: f(x)```"
   ]
  },
  {
   "cell_type": "code",
   "execution_count": 5,
   "metadata": {},
   "outputs": [
    {
     "name": "stdout",
     "output_type": "stream",
     "text": [
      "     x            fx            Fx           xfx   x2          x2fx\n",
      "0    0  6.426841e-09  6.426841e-09  0.000000e+00    0  0.000000e+00\n",
      "1    1  3.220561e-07  3.284830e-07  3.220561e-07    1  3.220561e-07\n",
      "2    2  7.335723e-06  7.664206e-06  1.467145e-05    4  2.934289e-05\n",
      "3    3  1.002549e-04  1.079191e-04  3.007647e-04    9  9.022940e-04\n",
      "4    4  9.134334e-04  1.021352e-03  3.653734e-03   16  1.461493e-02\n",
      "5    5  5.825675e-03  6.847028e-03  2.912838e-02   25  1.456419e-01\n",
      "6    6  2.653919e-02  3.338621e-02  1.592351e-01   36  9.554107e-01\n",
      "7    7  8.635767e-02  1.197439e-01  6.045037e-01   49  4.231526e+00\n",
      "8    8  1.967036e-01  3.164475e-01  1.573629e+00   64  1.258903e+01\n",
      "9    9  2.986980e-01  6.151455e-01  2.688282e+00   81  2.419454e+01\n",
      "10  10  2.721471e-01  8.872926e-01  2.721471e+00  100  2.721471e+01\n",
      "11  11  1.127074e-01  1.000000e+00  1.239781e+00  121  1.363759e+01 \n",
      "\n",
      "EX: 9.02\n",
      "EX2: 82.984\n",
      "varX: 1.6235999999999962\n",
      "modus_x: [9]\n",
      "\n"
     ]
    }
   ],
   "source": [
    "# Binomial Overview\n",
    "from math import comb\n",
    "import pandas as pd\n",
    "\n",
    "def binom_pmf(x, n, p):\n",
    "    return comb(n, x) * p**x * (1-p) ** (n-x)\n",
    "\n",
    "# nilai random variable\n",
    "x_list = [i for i in range (n+1)]\n",
    "fx = [binom_pmf(x, n, p) for x in x_list]\n",
    "\n",
    "''''''\n",
    "# USAGE\n",
    "# Keuntungan yang diharapkan\n",
    "# x_list = [100, 50, 10]\n",
    "# fx = [0.3, 0.36, 0.1]\n",
    "\n",
    "# make table of x and fx column\n",
    "tabel_fx = pd.DataFrame({'x': x_list,\n",
    "                        'fx': fx})\n",
    "# add Fx column\n",
    "tabel_fx['Fx'] = tabel_fx['fx'].cumsum()\n",
    "# add xfx column\n",
    "tabel_fx['xfx'] = tabel_fx['x'] * tabel_fx['fx']\n",
    "# add x2 column\n",
    "tabel_fx['x2'] = tabel_fx['x'] ** 2\n",
    "# add x2fx\n",
    "tabel_fx['x2fx'] = tabel_fx['x2'] * tabel_fx['fx']\n",
    "\n",
    "\n",
    "EX = tabel_fx['xfx'].sum()\n",
    "EX2 = tabel_fx['x2fx'].sum()\n",
    "varX = EX2 - (EX) ** 2\n",
    "\n",
    "max_fx = tabel_fx['fx'].max()\n",
    "modus_x = tabel_fx.loc[tabel_fx['fx'] == max_fx, 'x'].values\n",
    "# only continuous has median\n",
    "\n",
    "print(tabel_fx, \"\\n\")\n",
    "print(f\"EX: {EX}\")\n",
    "print(f\"EX2: {EX2}\")\n",
    "print(f\"varX: {varX}\")\n",
    "print(f\"modus_x: {modus_x}\\n\")"
   ]
  },
  {
   "cell_type": "code",
   "execution_count": 3,
   "metadata": {},
   "outputs": [
    {
     "name": "stdout",
     "output_type": "stream",
     "text": [
      "12. f(3) = 0.00010025488477732169\n"
     ]
    }
   ],
   "source": [
    "'''USAGE'''\n",
    "positif = 3\n",
    "\n",
    "print(f\"12. f({positif}) =\", binom.pmf(positif, n, p))"
   ]
  },
  {
   "cell_type": "code",
   "execution_count": 4,
   "metadata": {},
   "outputs": [
    {
     "name": "stdout",
     "output_type": "stream",
     "text": [
      "13. 1<=X<=4: 0.0010213589125173876\n"
     ]
    }
   ],
   "source": [
    "# P(a<=X<=b) = F(b) - F(a-1)\n",
    "F4 = binom.cdf(4, n, p)\n",
    "F0 = binom.cdf(0, n, p)\n",
    "\n",
    "print(f\"13. 1<=X<=4:\", F4 + F0)"
   ]
  },
  {
   "cell_type": "code",
   "execution_count": 13,
   "metadata": {},
   "outputs": [
    {
     "data": {
      "text/plain": [
       "0.1696969696969697"
      ]
     },
     "execution_count": 13,
     "metadata": {},
     "output_type": "execute_result"
    }
   ],
   "source": [
    "import math\n",
    "# P(CE ON | 3 ON) = n favorable / n(3)\n",
    "n3 = math.comb(11, 3)\n",
    "\n",
    "# CE favorable | x=3\n",
    "# (1)     (2)   (3)\n",
    "# ii    iii     ~   = 9\n",
    "# iv    vi      ~   = 9\n",
    "# iv    x       ~   = 9\n",
    "# ii    i       v   = 1\n",
    "\n",
    "28/n3"
   ]
  },
  {
   "cell_type": "code",
   "execution_count": 16,
   "metadata": {},
   "outputs": [
    {
     "data": {
      "text/plain": [
       "0.6506142399999999"
      ]
     },
     "execution_count": 16,
     "metadata": {},
     "output_type": "execute_result"
    }
   ],
   "source": [
    "# parallel - or\n",
    "# a + b - a*b\n",
    "par = 2*p-p**2\n",
    "\n",
    "# series - and\n",
    "# a*b\n",
    "ser = p*p\n",
    "\n",
    "'''USAGE'''\n",
    "# SER(ii, iii) AND PAR(viii, xi)\n",
    "# series AND parallel = ser * par\n",
    "ser * par"
   ]
  }
 ],
 "metadata": {
  "kernelspec": {
   "display_name": "Python 3",
   "language": "python",
   "name": "python3"
  },
  "language_info": {
   "codemirror_mode": {
    "name": "ipython",
    "version": 3
   },
   "file_extension": ".py",
   "mimetype": "text/x-python",
   "name": "python",
   "nbconvert_exporter": "python",
   "pygments_lexer": "ipython3",
   "version": "3.10.5"
  }
 },
 "nbformat": 4,
 "nbformat_minor": 2
}
