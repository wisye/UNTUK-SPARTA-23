{
 "cells": [
  {
   "cell_type": "markdown",
   "metadata": {},
   "source": [
    "# POISSON\n",
    "> Mesin Fotokopi"
   ]
  },
  {
   "cell_type": "code",
   "execution_count": 4,
   "metadata": {},
   "outputs": [],
   "source": [
    "# dik:\n",
    "'''USAGE'''\n",
    "kejadian = 1\n",
    "waktu = 5000 # β (jam)\n",
    "\n",
    "λ = kejadian/waktu\n",
    "beta = waktu\n",
    "lam = λ"
   ]
  },
  {
   "cell_type": "markdown",
   "metadata": {},
   "source": [
    "- EKSPONENSIAL"
   ]
  },
  {
   "cell_type": "code",
   "execution_count": 5,
   "metadata": {},
   "outputs": [
    {
     "name": "stdout",
     "output_type": "stream",
     "text": [
      "20. (exp) F(10000) = 0.8646647167633873\n",
      "20. (exp) F(10000) = 0.8646647167633873\n"
     ]
    }
   ],
   "source": [
    "# X: waktu sampai 1x kejadian\n",
    "# X ~ exp (β)\n",
    "\n",
    "'''USAGE'''\n",
    "# x: periode\n",
    "lower_bound = 0\n",
    "upper_bound = 10000\n",
    "periode = upper_bound-lower_bound\n",
    "\n",
    "import numpy as np\n",
    "def exp(x, beta):\n",
    "    return 1 - np.exp(-x/beta)\n",
    "# or\n",
    "from scipy.stats import expon\n",
    "\n",
    "\n",
    "print(f\"20. (exp) F({periode}) = {exp(upper_bound, beta) - exp(lower_bound, beta)}\")\n",
    "print(f\"20. (exp) F({periode}) = {expon.cdf(upper_bound, scale = beta) - expon.cdf(lower_bound, scale = beta)}\")"
   ]
  },
  {
   "cell_type": "markdown",
   "metadata": {},
   "source": [
    "- ERLANG"
   ]
  },
  {
   "cell_type": "code",
   "execution_count": 6,
   "metadata": {},
   "outputs": [
    {
     "name": "stdout",
     "output_type": "stream",
     "text": [
      "21. (Erlang) F(3) = 0.7618966944464556\n"
     ]
    }
   ],
   "source": [
    "# X: waktu sampai αx kejadian\n",
    "# X ~ Erlang (α, β)\n",
    "\n",
    "'''USAGE'''\n",
    "α = 3 # jumlah kejadian\n",
    "# x: periode\n",
    "lower_bound = 0\n",
    "upper_bound = 20000\n",
    "\n",
    "from scipy.stats import erlang\n",
    "print(f\"21. (Erlang) F({α}) = {erlang.cdf(upper_bound, α, scale = beta) - erlang.cdf(lower_bound, α, scale = beta)}\")"
   ]
  },
  {
   "cell_type": "markdown",
   "metadata": {},
   "source": [
    "- POISSON"
   ]
  },
  {
   "cell_type": "code",
   "execution_count": 25,
   "metadata": {},
   "outputs": [
    {
     "name": "stdout",
     "output_type": "stream",
     "text": [
      "22. (Poisson) 1-F(2) = 0.7618966944464557\n"
     ]
    }
   ],
   "source": [
    "# X: jumlah nx kejadian dalam periode\n",
    "# X ~ Poisson (λt)\n",
    "\n",
    "'''USAGE'''\n",
    "# tidak kurang dari x: \n",
    "# P(X>=x) = 1 - F(x-1)\n",
    "n = 3 # kejadian\n",
    "periode = 20000\n",
    "\n",
    "import numpy as np\n",
    "from math import factorial\n",
    "\n",
    "def poisson_pmf(x, λt): # fx\n",
    "    return np.exp(-λt) * λt ** x / factorial(x)\n",
    "\n",
    "def poisson_cdf(x, λt): # Fx\n",
    "    cdf = 0\n",
    "    for i in range(0, x+1):\n",
    "        cdf += poisson_pmf(i, λt)\n",
    "    return cdf\n",
    "\n",
    "\n",
    "print(f\"22. (Poisson) 1-F({n-1}) = {1 - poisson_cdf(n-1, periode*lam)}\")"
   ]
  },
  {
   "cell_type": "markdown",
   "metadata": {},
   "source": [
    "# WEIBULL\n",
    "> Mesin Fotokopi"
   ]
  },
  {
   "cell_type": "code",
   "execution_count": 16,
   "metadata": {},
   "outputs": [
    {
     "name": "stdout",
     "output_type": "stream",
     "text": [
      "23. (Weibull) F(10000) = 0.9183234027807089\n"
     ]
    }
   ],
   "source": [
    "# X: waktu sampai 1x kejadian\n",
    "# X ~ Weibull (α, β)\n",
    "\n",
    "'''USAGE'''\n",
    "beta = 1.15 # shape_weibull\n",
    "mean = 4500 # scale_weibull\n",
    "periode = 10000\n",
    "\n",
    "from scipy.stats import weibull_min\n",
    "\n",
    "# c=0: default, no shift (in this case, cdf)\n",
    "print(f\"23. (Weibull) F({periode}) = {weibull_min.cdf(periode, c=beta, scale=mean)}\")"
   ]
  }
 ],
 "metadata": {
  "kernelspec": {
   "display_name": "Python 3",
   "language": "python",
   "name": "python3"
  },
  "language_info": {
   "codemirror_mode": {
    "name": "ipython",
    "version": 3
   },
   "file_extension": ".py",
   "mimetype": "text/x-python",
   "name": "python",
   "nbconvert_exporter": "python",
   "pygments_lexer": "ipython3",
   "version": "3.10.5"
  }
 },
 "nbformat": 4,
 "nbformat_minor": 2
}
