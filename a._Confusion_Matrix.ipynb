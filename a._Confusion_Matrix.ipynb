{
 "cells": [
  {
   "cell_type": "markdown",
   "metadata": {},
   "source": [
    "# CONFUSION MATRIX\n",
    "> Positif COVID"
   ]
  },
  {
   "cell_type": "code",
   "execution_count": 2,
   "metadata": {},
   "outputs": [],
   "source": [
    "# dik:\n",
    "'''USAGE'''\n",
    "\n",
    "semesta = 1300\n",
    "H = 120 # kasus positif\n",
    "\n",
    "tpr = 0.95\n",
    "fpr = 0.04"
   ]
  },
  {
   "cell_type": "code",
   "execution_count": 4,
   "metadata": {},
   "outputs": [
    {
     "name": "stdout",
     "output_type": "stream",
     "text": [
      "1. prevalensi: pH = 0.09230769230769231\n"
     ]
    }
   ],
   "source": [
    "pH = H/semesta\n",
    "pHc = 1 - pH\n",
    "\n",
    "print(\"1. prevalensi: pH =\", pH)"
   ]
  },
  {
   "cell_type": "code",
   "execution_count": 6,
   "metadata": {},
   "outputs": [
    {
     "name": "stdout",
     "output_type": "stream",
     "text": [
      "2. tnr = 0.96\n",
      "3. fnr = 0.050000000000000044\n"
     ]
    }
   ],
   "source": [
    "# P(Ec|H): FNR, miss rate\n",
    "# P(Ec|Hc): TNR, specificity\n",
    "fnr = 1-tpr\n",
    "tnr = 1-fpr\n",
    "\n",
    "print(\"2. tnr =\", tnr)\n",
    "print(\"3. fnr =\", fnr)"
   ]
  },
  {
   "cell_type": "code",
   "execution_count": 7,
   "metadata": {},
   "outputs": [
    {
     "name": "stdout",
     "output_type": "stream",
     "text": [
      "4. ppv = 0.707196029776675\n",
      "5. fdr = 0.29280397022332505\n"
     ]
    }
   ],
   "source": [
    "pEnH = tpr * pH\n",
    "pEnHc = fpr * pHc\n",
    "pE = pEnH + pEnHc\n",
    "\n",
    "pEcnHc = tnr * pHc\n",
    "\n",
    "# P(H|E): PPV, precsion (bayes)\n",
    "# P(Hc|E): FDR (bayesc)\n",
    "bayes = pEnH/pE\n",
    "bayesc = 1-bayes\n",
    "\n",
    "print(\"4. ppv =\", bayes)\n",
    "print(\"5. fdr =\", bayesc)"
   ]
  },
  {
   "cell_type": "code",
   "execution_count": 8,
   "metadata": {},
   "outputs": [
    {
     "name": "stdout",
     "output_type": "stream",
     "text": [
      "6. for = 0.005268703898840932\n",
      "7. npv = 0.9947312961011591\n"
     ]
    }
   ],
   "source": [
    "# P(H|Ec): FOR\n",
    "# P(Hc|Ec): NPV, PNV\n",
    "npv = tnr * (1-pH) / (1-pE)\n",
    "forr = 1-npv\n",
    "\n",
    "print(\"6. for =\", forr)\n",
    "print(\"7. npv =\", npv)"
   ]
  },
  {
   "cell_type": "code",
   "execution_count": 9,
   "metadata": {},
   "outputs": [
    {
     "name": "stdout",
     "output_type": "stream",
     "text": [
      "8. positive rate: pE = 0.124\n",
      "9. negative rate: pEc = 0.876\n"
     ]
    }
   ],
   "source": [
    "# pE = E/semesta\n",
    "# pEc = (semesta-E)/semesta\n",
    "\n",
    "print(\"8. positive rate: pE =\", pE)\n",
    "print(\"9. negative rate: pEc =\", 1-pE)"
   ]
  },
  {
   "cell_type": "code",
   "execution_count": 10,
   "metadata": {},
   "outputs": [
    {
     "name": "stdout",
     "output_type": "stream",
     "text": [
      "10. akurasi = 0.959076923076923\n"
     ]
    }
   ],
   "source": [
    "# ACC\n",
    "acc = pEnH + pEcnHc\n",
    "\n",
    "print(\"10. akurasi =\", acc)"
   ]
  },
  {
   "cell_type": "markdown",
   "metadata": {},
   "source": [
    "> Festival"
   ]
  },
  {
   "cell_type": "code",
   "execution_count": 5,
   "metadata": {},
   "outputs": [
    {
     "name": "stdout",
     "output_type": "stream",
     "text": [
      "11. minimal 1 orang COVID = 1.0\n"
     ]
    }
   ],
   "source": [
    "from scipy.stats import binom\n",
    "\n",
    "# dik:\n",
    "'''USAGE'''\n",
    "pengunjung = 100\n",
    "# P(X>=1) = 1 - F(x-1)\n",
    "x = 1\n",
    "\n",
    "print(\"11. minimal 1 orang COVID =\", 1-binom.pmf(x-1, pengunjung, pH))"
   ]
  }
 ],
 "metadata": {
  "kernelspec": {
   "display_name": "Python 3",
   "language": "python",
   "name": "python3"
  },
  "language_info": {
   "codemirror_mode": {
    "name": "ipython",
    "version": 3
   },
   "file_extension": ".py",
   "mimetype": "text/x-python",
   "name": "python",
   "nbconvert_exporter": "python",
   "pygments_lexer": "ipython3",
   "version": "3.10.5"
  }
 },
 "nbformat": 4,
 "nbformat_minor": 2
}
