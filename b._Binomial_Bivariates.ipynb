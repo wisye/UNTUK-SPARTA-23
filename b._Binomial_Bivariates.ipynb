{
 "cells": [
  {
   "cell_type": "markdown",
   "metadata": {},
   "source": [
    "# BINOMIAL\n",
    "> Data Center"
   ]
  },
  {
   "cell_type": "code",
   "execution_count": 1,
   "metadata": {},
   "outputs": [],
   "source": [
    "from scipy.stats import binom\n",
    "# dik:\n",
    "'''USAGE'''\n",
    "\n",
    "n = 3\n",
    "p = 0.9\n",
    "q = 1-p"
   ]
  },
  {
   "cell_type": "markdown",
   "metadata": {},
   "source": [
    "```CDF: F(x)```\n",
    "\n",
    "```PMF: f(x)```"
   ]
  },
  {
   "cell_type": "code",
   "execution_count": 34,
   "metadata": {},
   "outputs": [
    {
     "name": "stdout",
     "output_type": "stream",
     "text": [
      "   x     fx     Fx    xfx  x2   x2fx\n",
      "0  0  0.001  0.001  0.000   0  0.000\n",
      "1  1  0.027  0.028  0.027   1  0.027\n",
      "2  2  0.243  0.271  0.486   4  0.972\n",
      "3  3  0.729  1.000  2.187   9  6.561 \n",
      "\n",
      "EX: 2.7\n",
      "EX2: 7.5600000000000005\n",
      "varX: 0.2699999999999996\n",
      "modus_x: [3]\n",
      "\n",
      "   y     fy     Fy    yfy  y2   y2fy\n",
      "0  0  0.729  0.729  0.000   0  0.000\n",
      "1  1  0.243  0.972  0.243   1  0.243\n",
      "2  2  0.027  0.999  0.054   4  0.108\n",
      "3  3  0.001  1.000  0.003   9  0.009 \n",
      "\n",
      "EY: 0.29999999999999993\n",
      "EY2: 0.35999999999999993\n",
      "varY: 0.26999999999999996\n",
      "modus_y: [0]\n",
      "\n"
     ]
    }
   ],
   "source": [
    "# Binomial Bivariates Overview\n",
    "from math import comb\n",
    "import pandas as pd\n",
    "\n",
    "def binom_pmf(x, n, p):\n",
    "    return comb(n, x) * p**x * (1-p) ** (n-x)\n",
    "\n",
    "# nilai random variable\n",
    "x_list = [i for i in range (n+1)]\n",
    "fx = [binom_pmf(x, n, p) for x in x_list]\n",
    "\n",
    "''''''\n",
    "# USAGE\n",
    "# Keuntungan yang diharapkan\n",
    "# x_list = [100, 50, 10]\n",
    "# fx = [0.3, 0.36, 0.1]\n",
    "\n",
    "# make table of x and fx column\n",
    "tabel_fx = pd.DataFrame({'x': x_list,\n",
    "                        'fx': fx})\n",
    "# add Fx column\n",
    "tabel_fx['Fx'] = tabel_fx['fx'].cumsum()\n",
    "# add xfx column\n",
    "tabel_fx['xfx'] = tabel_fx['x'] * tabel_fx['fx']\n",
    "# add x2 column\n",
    "tabel_fx['x2'] = tabel_fx['x'] ** 2\n",
    "# add x2fx\n",
    "tabel_fx['x2fx'] = tabel_fx['x2'] * tabel_fx['fx']\n",
    "\n",
    "\n",
    "EX = tabel_fx['xfx'].sum()\n",
    "EX2 = tabel_fx['x2fx'].sum()\n",
    "varX = EX2 - (EX) ** 2\n",
    "\n",
    "max_fx = tabel_fx['fx'].max()\n",
    "modus_x = tabel_fx.loc[tabel_fx['fx'] == max_fx, 'x'].values\n",
    "# only continuous has median\n",
    "\n",
    "\n",
    "# ---\n",
    "y_list = [i for i in range (n+1)]; fy = [binom_pmf(y, n, q) for y in y_list]\n",
    "tabel_fy = pd.DataFrame({'y': y_list, 'fy': fy})\n",
    "tabel_fy['Fy'] = tabel_fy['fy'].cumsum()\n",
    "tabel_fy['yfy'] = tabel_fy['y'] * tabel_fy['fy']\n",
    "tabel_fy['y2'] = tabel_fy['y'] ** 2\n",
    "tabel_fy['y2fy'] = tabel_fy['y2'] * tabel_fy['fy']\n",
    "\n",
    "EY = tabel_fy['yfy'].sum()\n",
    "EY2 = tabel_fy['y2fy'].sum()\n",
    "varY = EY2 - (EY) ** 2\n",
    "max_fy = tabel_fy['fy'].max()\n",
    "modus_y = tabel_fy.loc[tabel_fy['fy'] == max_fy, 'y'].values\n",
    "# only continuous has median\n",
    "# ---\n",
    "\n",
    "print(tabel_fx, \"\\n\")\n",
    "print(f\"EX: {EX}\")\n",
    "print(f\"EX2: {EX2}\")\n",
    "print(f\"varX: {varX}\")\n",
    "print(f\"modus_x: {modus_x}\\n\")\n",
    "\n",
    "print(tabel_fy, \"\\n\")\n",
    "print(f\"EY: {EY}\")\n",
    "print(f\"EY2: {EY2}\")\n",
    "print(f\"varY: {varY}\")\n",
    "print(f\"modus_y: {modus_y}\\n\")"
   ]
  },
  {
   "cell_type": "code",
   "execution_count": 2,
   "metadata": {},
   "outputs": [
    {
     "name": "stdout",
     "output_type": "stream",
     "text": [
      "12. f(0) = 0.001\n"
     ]
    }
   ],
   "source": [
    "'''USAGE'''\n",
    "positif = 0\n",
    "\n",
    "print(f\"12. f({positif}) =\", binom.pmf(positif, n, p))"
   ]
  },
  {
   "cell_type": "code",
   "execution_count": 3,
   "metadata": {},
   "outputs": [
    {
     "name": "stdout",
     "output_type": "stream",
     "text": [
      "13. maksimal 1 OFF: 0.972\n"
     ]
    }
   ],
   "source": [
    "# P(X<=1 OFF) = P(3 ON) + P(2 ON)\n",
    "f2 = binom.pmf(2, n, p)\n",
    "f3 = binom.pmf(3, n, p)\n",
    "\n",
    "print(f\"13. maksimal 1 OFF:\", f2 + f3)"
   ]
  },
  {
   "cell_type": "code",
   "execution_count": 35,
   "metadata": {},
   "outputs": [
    {
     "name": "stdout",
     "output_type": "stream",
     "text": [
      "14. EX: 2.7\n",
      "15. varX: 0.26999999999999996\n"
     ]
    }
   ],
   "source": [
    "EX = n * p\n",
    "varX = n * p * q\n",
    "\n",
    "print(f\"14. EX: {EX}\")\n",
    "print(f\"15. varX: {varX}\")"
   ]
  },
  {
   "cell_type": "markdown",
   "metadata": {},
   "source": [
    "# BIVARIATES\n",
    ">  Data Center"
   ]
  },
  {
   "cell_type": "code",
   "execution_count": 30,
   "metadata": {},
   "outputs": [
    {
     "name": "stdout",
     "output_type": "stream",
     "text": [
      "16. EY: 0.29999999999999993\n",
      "17. varY: 0.26999999999999996\n"
     ]
    }
   ],
   "source": [
    "EY = n * q\n",
    "varY = n * p * q\n",
    "\n",
    "print(f\"16. EY: {EY}\")\n",
    "print(f\"17. varY: {varY}\")"
   ]
  },
  {
   "cell_type": "code",
   "execution_count": 41,
   "metadata": {},
   "outputs": [
    {
     "name": "stdout",
     "output_type": "stream",
     "text": [
      "       y=0    y=1    y=2    y=3\n",
      "x=0  0.000  0.000  0.000  0.001\n",
      "x=1  0.000  0.000  0.027  0.000\n",
      "x=2  0.000  0.243  0.000  0.000\n",
      "x=3  0.729  0.000  0.000  0.000 \n",
      "\n",
      "EXY = 0.5399999999999999\n",
      "kovariansi: σxy = -0.2699999999999999\n",
      "koefisien korelasi: ρxy = -0.9999999999999998\n"
     ]
    }
   ],
   "source": [
    "# Bivariates Overview\n",
    "# p + q = 1\n",
    "\n",
    "import pandas as pd\n",
    "from scipy.special import comb\n",
    "from scipy.stats import binom\n",
    "\n",
    "# Inisialisasi tabel f(x, y)\n",
    "f_table = []\n",
    "\n",
    "EXY=0\n",
    "# Menghitung probabilitas dan mengisi tabel\n",
    "for x in range(n + 1):\n",
    "    row = []\n",
    "    for y in range(n + 1):\n",
    "        if x + y == n:\n",
    "            prob = comb(n, x) * (p**x) * ((1 - p)**y)\n",
    "            EXY += x * y * prob\n",
    "            row.append(prob)\n",
    "        else:\n",
    "            row.append(0.0)\n",
    "    f_table.append(row)\n",
    "\n",
    "# Membuat DataFrame Pandas dari tabel\n",
    "df = pd.DataFrame(f_table, columns=[f'y={y}' for y in range(n + 1)], index=[f'x={x}' for x in range(n + 1)])\n",
    "\n",
    "# σxy = Cov(x, y): kovariansi\n",
    "# ρxy: koefisien korelasi\n",
    "σxy = EXY - EX * EY\n",
    "σx = varX ** 0.5\n",
    "σy = varY ** 0.5\n",
    "ρxy = σxy/(σx*σy)\n",
    "\n",
    "# Menampilkan DataFrame yang telah ditambahkan fungsi h(y) dan g(x)\n",
    "print(df, \"\\n\")\n",
    "print(f\"EXY = {EXY}\")\n",
    "print(f\"kovariansi: σxy = {σxy}\")\n",
    "print(f\"koefisien korelasi: ρxy = {ρxy}\")\n"
   ]
  },
  {
   "cell_type": "code",
   "execution_count": 39,
   "metadata": {},
   "outputs": [
    {
     "name": "stdout",
     "output_type": "stream",
     "text": [
      "18. kovariansi: σxy = -0.2699999999999999\n",
      "19. koefisien korelasi: ρxy = -0.2699999999999999\n"
     ]
    }
   ],
   "source": [
    "print(f\"18. kovariansi: σxy = {σxy}\")\n",
    "print(f\"19. koefisien korelasi: ρxy = {ρxy}\")"
   ]
  }
 ],
 "metadata": {
  "kernelspec": {
   "display_name": "Python 3",
   "language": "python",
   "name": "python3"
  },
  "language_info": {
   "codemirror_mode": {
    "name": "ipython",
    "version": 3
   },
   "file_extension": ".py",
   "mimetype": "text/x-python",
   "name": "python",
   "nbconvert_exporter": "python",
   "pygments_lexer": "ipython3",
   "version": "3.10.5"
  }
 },
 "nbformat": 4,
 "nbformat_minor": 2
}
