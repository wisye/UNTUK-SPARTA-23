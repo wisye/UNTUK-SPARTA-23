{
 "cells": [
  {
   "cell_type": "markdown",
   "metadata": {},
   "source": [
    "# NORMAL\n",
    "> Tegangan dan Daya"
   ]
  },
  {
   "cell_type": "code",
   "execution_count": 18,
   "metadata": {},
   "outputs": [],
   "source": [
    "from scipy.stats import norm\n",
    "# V ~ Normal (mean, stdev)\n",
    "\n",
    "'''USAGE'''\n",
    "mean = 25\n",
    "stdev = 2\n",
    "R = 10\n",
    "\n",
    "varV = stdev**2\n",
    "EV = mean"
   ]
  },
  {
   "cell_type": "code",
   "execution_count": 7,
   "metadata": {},
   "outputs": [
    {
     "name": "stdout",
     "output_type": "stream",
     "text": [
      "24a. F(29)-F(21) = 0.9544997361036416\n"
     ]
    }
   ],
   "source": [
    "\n",
    "'''USAGE'''\n",
    "lower_bound = 21\n",
    "upper_bound = 29\n",
    "\n",
    "print(f\"24a. F({upper_bound})-F({lower_bound}) =\", norm.cdf(upper_bound, loc=mean, scale=stdev) - norm.cdf(lower_bound, loc=mean, scale=stdev))"
   ]
  },
  {
   "cell_type": "code",
   "execution_count": 11,
   "metadata": {},
   "outputs": [
    {
     "name": "stdout",
     "output_type": "stream",
     "text": [
      "24b. 1-F(29) = 0.02275013194817921\n"
     ]
    }
   ],
   "source": [
    "'''USAGE'''\n",
    "# P(V>v) = 1 - F(v)\n",
    "v = 29\n",
    "\n",
    "print(f\"24b. 1-F({v}) =\", 1-norm.cdf(v, loc=mean, scale=stdev))"
   ]
  },
  {
   "cell_type": "code",
   "execution_count": 13,
   "metadata": {},
   "outputs": [
    {
     "name": "stdout",
     "output_type": "stream",
     "text": [
      "24c. F(21) = 0.0227501319481792\n"
     ]
    }
   ],
   "source": [
    "'''USAGE'''\n",
    "# P(V<v) = F(v)\n",
    "v = 21\n",
    "\n",
    "print(f\"24c. F({v}) =\", norm.cdf(v, loc=mean, scale=stdev))"
   ]
  },
  {
   "cell_type": "code",
   "execution_count": 19,
   "metadata": {},
   "outputs": [
    {
     "name": "stdout",
     "output_type": "stream",
     "text": [
      "24d. EP = 62.9\n"
     ]
    }
   ],
   "source": [
    "# E(P) = E(V**2/R) = E(V**2)/R\n",
    "EV2 = varV + EV**2\n",
    "EP = EV2/R\n",
    "\n",
    "print(f\"24d. EP =\", EP)"
   ]
  },
  {
   "cell_type": "code",
   "execution_count": 21,
   "metadata": {},
   "outputs": [
    {
     "name": "stdout",
     "output_type": "stream",
     "text": [
      "24e. varP = 100.32000000000016\n"
     ]
    }
   ],
   "source": [
    "# var(P) = E(P**2) - E(P)**2\n",
    "EV4 = norm.moment(4, loc=mean, scale=stdev)\n",
    "EP2 = EV4/R**2\n",
    "varP = EP2 - EP**2\n",
    "\n",
    "print(f\"24e. varP =\", varP)"
   ]
  }
 ],
 "metadata": {
  "kernelspec": {
   "display_name": "Python 3",
   "language": "python",
   "name": "python3"
  },
  "language_info": {
   "codemirror_mode": {
    "name": "ipython",
    "version": 3
   },
   "file_extension": ".py",
   "mimetype": "text/x-python",
   "name": "python",
   "nbconvert_exporter": "python",
   "pygments_lexer": "ipython3",
   "version": "3.10.5"
  }
 },
 "nbformat": 4,
 "nbformat_minor": 2
}
