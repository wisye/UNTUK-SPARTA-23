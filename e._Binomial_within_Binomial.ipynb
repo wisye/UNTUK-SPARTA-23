{
 "cells": [
  {
   "cell_type": "markdown",
   "metadata": {},
   "source": [
    "# BINOMIAL WITHIN BINOMIAL\n",
    "> Transmisi Paket"
   ]
  },
  {
   "cell_type": "code",
   "execution_count": 11,
   "metadata": {},
   "outputs": [],
   "source": [
    "from scipy.stats import binom\n",
    "'''USAGE'''\n",
    "n = 128 # jumlah bit\n",
    "p = 0.025 # P(error)\n",
    "max_error = 5 # max bit error\n",
    "\n",
    "q=1-p"
   ]
  },
  {
   "cell_type": "markdown",
   "metadata": {},
   "source": [
    "```CDF: F(x)```\n",
    "\n",
    "```PMF: f(x)```"
   ]
  },
  {
   "cell_type": "code",
   "execution_count": 17,
   "metadata": {},
   "outputs": [
    {
     "name": "stdout",
     "output_type": "stream",
     "text": [
      "25.a. P(paket benar) = F(5) = 0.8972012457918314\n"
     ]
    }
   ],
   "source": [
    "# X: jumlah bit error\n",
    "# X ~ binom (n, p)\n",
    "\n",
    "# P(benar) = P(X<=5)\n",
    "p_benar = binom.cdf(max_error, n, p)\n",
    "print(f\"25.a. P(paket benar) = F({max_error}) =\", p_benar)"
   ]
  },
  {
   "cell_type": "code",
   "execution_count": 14,
   "metadata": {},
   "outputs": [
    {
     "name": "stdout",
     "output_type": "stream",
     "text": [
      "25.b. EX = 3.12\n"
     ]
    }
   ],
   "source": [
    "EX = n * p * q\n",
    "print(f\"25.b. EX =\", EX)"
   ]
  },
  {
   "cell_type": "code",
   "execution_count": 16,
   "metadata": {},
   "outputs": [
    {
     "name": "stdout",
     "output_type": "stream",
     "text": [
      "25.c. varX 3.2\n"
     ]
    }
   ],
   "source": [
    "varX = n * p\n",
    "print(f\"25.c. varX\", varX)"
   ]
  },
  {
   "cell_type": "code",
   "execution_count": 19,
   "metadata": {},
   "outputs": [
    {
     "name": "stdout",
     "output_type": "stream",
     "text": [
      "25.d. f(128) 9.330460887113062e-07\n"
     ]
    }
   ],
   "source": [
    "# P: jumlah paket benar\n",
    "# P ~ binom (jumlah_paket, p_benar)\n",
    "\n",
    "'''USAGE'''\n",
    "jumlah_paket = 128\n",
    "\n",
    "print(f\"25.d. f({jumlah_paket})\", binom.pmf(jumlah_paket, jumlah_paket, p_benar))"
   ]
  }
 ],
 "metadata": {
  "kernelspec": {
   "display_name": "Python 3",
   "language": "python",
   "name": "python3"
  },
  "language_info": {
   "codemirror_mode": {
    "name": "ipython",
    "version": 3
   },
   "file_extension": ".py",
   "mimetype": "text/x-python",
   "name": "python",
   "nbconvert_exporter": "python",
   "pygments_lexer": "ipython3",
   "version": "3.10.5"
  }
 },
 "nbformat": 4,
 "nbformat_minor": 2
}
