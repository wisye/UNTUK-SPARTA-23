{
 "cells": [
  {
   "cell_type": "markdown",
   "metadata": {},
   "source": [
    "# UNIFORM\n",
    "> Lomba debat"
   ]
  },
  {
   "cell_type": "code",
   "execution_count": 10,
   "metadata": {},
   "outputs": [],
   "source": [
    "'''USAGE'''\n",
    "class entity:\n",
    "    def __init__(self, name, karg, lower, upper):\n",
    "        self.name = name\n",
    "        self.karg = int(karg)\n",
    "        self.narg = 0.6 * karg\n",
    "        self.lower = lower\n",
    "        self.upper = upper\n",
    "\n",
    "menang = entity(\"A\", 75, 250, 350)\n",
    "kalah = entity(\"B\", 70, 200, 300)\n",
    "\n",
    "# X: error\n",
    "# B_X ~ Uniform (200-300)\n",
    "# A_X ~ Uniform (250-350)"
   ]
  },
  {
   "cell_type": "code",
   "execution_count": 21,
   "metadata": {},
   "outputs": [
    {
     "name": "stdout",
     "output_type": "stream",
     "text": [
      "P(AA)\n",
      "= P(A_NA > B_NA)\n",
      "= P(45.0 - 2/50 * A_err > 42.0 - 2/50 * B_err)\n",
      "= P(3.0 - 2/50 * A_err > -2/50 * B_err)\n",
      "= P(B_err) > A_err - 75.0\n"
     ]
    }
   ],
   "source": [
    "def NA(NArg, NEff):\n",
    "    return NArg + NEff\n",
    "\n",
    "def NArg(karg):\n",
    "    return 0.6 * karg\n",
    "\n",
    "def NEff(err):\n",
    "    return 0.4 * (1-(err/1000)*100)\n",
    "    # 0.4*100 (1-(err/1000))\n",
    "    # 40 - 2/50 * err\n",
    "\n",
    "print(f\"P(A{menang.name})\") \n",
    "print(f\"= P({menang.name}_NA > {kalah.name}_NA)\")\n",
    "print(f\"= P({menang.narg} - 2/50 * {menang.name}_err > {kalah.narg} - 2/50 * {kalah.name}_err)\")\n",
    "print(f\"= P({menang.narg-kalah.narg} - 2/50 * {menang.name}_err > -2/50 * {kalah.name}_err)\")\n",
    "print(f\"= P({kalah.name}_err) > {menang.name}_err - {(menang.narg-kalah.narg)*50/2}\")\n"
   ]
  },
  {
   "cell_type": "code",
   "execution_count": 26,
   "metadata": {},
   "outputs": [
    {
     "name": "stdout",
     "output_type": "stream",
     "text": [
      "B lower : 200 > A-75\n",
      "B upper : 300 > A-75\n",
      "\n",
      "A lower : B > 250-75 = 175\n",
      "A upper : B > 350-75 = 275\n"
     ]
    }
   ],
   "source": [
    "def func(menang, kalah):\n",
    "    print(f\"{kalah.name} > {menang.name}-75\")\n",
    "\n",
    "print(f\"{kalah.name} lower : {kalah.lower} > {menang.name}-75\")\n",
    "print(f\"{kalah.name} upper : {kalah.upper} > {menang.name}-75\\n\")\n",
    "\n",
    "print(f\"{menang.name} lower : {kalah.name} > {menang.lower}-75 = {menang.lower-75}\")\n",
    "print(f\"{menang.name} upper : {kalah.name} > {menang.upper}-75 = {menang.upper-75}\")"
   ]
  },
  {
   "cell_type": "code",
   "execution_count": 30,
   "metadata": {},
   "outputs": [
    {
     "name": "stdout",
     "output_type": "stream",
     "text": [
      "bounds: (275, 200), (350, 275)\n",
      "\n",
      "P = L(arsir)/L(persegi)\n"
     ]
    }
   ],
   "source": [
    "print(f\"bounds: (275, 200), (350, 275)\\n\")\n",
    "\n",
    "print(\"P = L(arsir)/L(persegi)\")"
   ]
  },
  {
   "cell_type": "code",
   "execution_count": 33,
   "metadata": {},
   "outputs": [
    {
     "data": {
      "text/plain": [
       "0.71875"
      ]
     },
     "execution_count": 33,
     "metadata": {},
     "output_type": "execute_result"
    }
   ],
   "source": [
    "persegi = (menang.upper-menang.lower)*(kalah.upper-kalah.lower)\n",
    "\n",
    "(persegi - 75*75/2)/persegi"
   ]
  }
 ],
 "metadata": {
  "kernelspec": {
   "display_name": "Python 3",
   "language": "python",
   "name": "python3"
  },
  "language_info": {
   "codemirror_mode": {
    "name": "ipython",
    "version": 3
   },
   "file_extension": ".py",
   "mimetype": "text/x-python",
   "name": "python",
   "nbconvert_exporter": "python",
   "pygments_lexer": "ipython3",
   "version": "3.10.5"
  }
 },
 "nbformat": 4,
 "nbformat_minor": 2
}
