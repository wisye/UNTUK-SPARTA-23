{
 "cells": [
  {
   "cell_type": "code",
   "execution_count": 1,
   "id": "f0925adb-fa02-42b6-830f-30ab4dd8e791",
   "metadata": {},
   "outputs": [],
   "source": [
    "p = 0.9"
   ]
  },
  {
   "cell_type": "code",
   "execution_count": 2,
   "id": "873f844f-8ec6-4552-997c-e6518a32c35f",
   "metadata": {},
   "outputs": [
    {
     "data": {
      "text/plain": [
       "0.271"
      ]
     },
     "execution_count": 2,
     "metadata": {},
     "output_type": "execute_result"
    }
   ],
   "source": [
    "f0 = (0.1) ** 3\n",
    "f1 = 3 * (0.9) ** 1 * (0.1) ** 2\n",
    "f2 = 3 * (0.9) ** 2 * (0.1) ** 1\n",
    "\n",
    "F2 = f0+f1+f2\n",
    "\n",
    "F2"
   ]
  },
  {
   "cell_type": "code",
   "execution_count": 1,
   "id": "809f5e62-cd0f-4c7c-b81a-77b865d163af",
   "metadata": {},
   "outputs": [],
   "source": [
    "from math import comb\n",
    "def binom_pmf(x, n, p):\n",
    "    return comb(n, x) * p ** x * (1-p) ** (n-x)"
   ]
  },
  {
   "cell_type": "code",
   "execution_count": 4,
   "id": "2193f176-85e9-4476-bd28-7a3a3a234a74",
   "metadata": {},
   "outputs": [],
   "source": [
    "x_list = [0, 1, 2, 3]\n",
    "n = 3\n",
    "p = 0.9\n",
    "fx = [binom_pmf(x, 3, 0.9) for x in x_list]"
   ]
  },
  {
   "cell_type": "code",
   "execution_count": 5,
   "id": "ae671739-1415-452b-8d74-4d7d62ab39c2",
   "metadata": {},
   "outputs": [
    {
     "data": {
      "text/plain": [
       "[0.0009999999999999994,\n",
       " 0.02699999999999999,\n",
       " 0.24299999999999997,\n",
       " 0.7290000000000001]"
      ]
     },
     "execution_count": 5,
     "metadata": {},
     "output_type": "execute_result"
    }
   ],
   "source": [
    "fx"
   ]
  },
  {
   "cell_type": "code",
   "execution_count": 14,
   "id": "b0426730-5d25-408c-b6dd-7778e44f5bf0",
   "metadata": {},
   "outputs": [],
   "source": [
    "import pandas as pd\n",
    "tabel_fx = pd.DataFrame({'x': x_list,\n",
    "                        'fx': fx})"
   ]
  },
  {
   "cell_type": "code",
   "execution_count": 16,
   "id": "434dbacc-102e-423f-944f-f90c45831dd7",
   "metadata": {},
   "outputs": [],
   "source": [
    "tabel_fx['Fx'] = tabel_fx['fx'].cumsum()"
   ]
  },
  {
   "cell_type": "code",
   "execution_count": 17,
   "id": "db7734ca-b21c-449d-9596-f31f46809e39",
   "metadata": {},
   "outputs": [
    {
     "data": {
      "text/html": [
       "<div>\n",
       "<style scoped>\n",
       "    .dataframe tbody tr th:only-of-type {\n",
       "        vertical-align: middle;\n",
       "    }\n",
       "\n",
       "    .dataframe tbody tr th {\n",
       "        vertical-align: top;\n",
       "    }\n",
       "\n",
       "    .dataframe thead th {\n",
       "        text-align: right;\n",
       "    }\n",
       "</style>\n",
       "<table border=\"1\" class=\"dataframe\">\n",
       "  <thead>\n",
       "    <tr style=\"text-align: right;\">\n",
       "      <th></th>\n",
       "      <th>x</th>\n",
       "      <th>fx</th>\n",
       "      <th>Fx</th>\n",
       "    </tr>\n",
       "  </thead>\n",
       "  <tbody>\n",
       "    <tr>\n",
       "      <th>0</th>\n",
       "      <td>0</td>\n",
       "      <td>0.001</td>\n",
       "      <td>0.001</td>\n",
       "    </tr>\n",
       "    <tr>\n",
       "      <th>1</th>\n",
       "      <td>1</td>\n",
       "      <td>0.027</td>\n",
       "      <td>0.028</td>\n",
       "    </tr>\n",
       "    <tr>\n",
       "      <th>2</th>\n",
       "      <td>2</td>\n",
       "      <td>0.243</td>\n",
       "      <td>0.271</td>\n",
       "    </tr>\n",
       "    <tr>\n",
       "      <th>3</th>\n",
       "      <td>3</td>\n",
       "      <td>0.729</td>\n",
       "      <td>1.000</td>\n",
       "    </tr>\n",
       "  </tbody>\n",
       "</table>\n",
       "</div>"
      ],
      "text/plain": [
       "   x     fx     Fx\n",
       "0  0  0.001  0.001\n",
       "1  1  0.027  0.028\n",
       "2  2  0.243  0.271\n",
       "3  3  0.729  1.000"
      ]
     },
     "execution_count": 17,
     "metadata": {},
     "output_type": "execute_result"
    }
   ],
   "source": [
    "tabel_fx"
   ]
  },
  {
   "cell_type": "code",
   "execution_count": 18,
   "id": "17c0cc0d-9e19-4fe5-993f-4e4964a6e3b5",
   "metadata": {},
   "outputs": [
    {
     "data": {
      "text/plain": [
       "2.7"
      ]
     },
     "execution_count": 18,
     "metadata": {},
     "output_type": "execute_result"
    }
   ],
   "source": [
    "tabel_fx['xfx'] = tabel_fx['x'] * tabel_fx['fx']\n",
    "\n",
    "EX = tabel_fx['xfx'].sum()\n",
    "\n",
    "EX # n * p"
   ]
  },
  {
   "cell_type": "code",
   "execution_count": 19,
   "id": "b83303b8-2503-49d5-aa92-44fa7f154ff1",
   "metadata": {},
   "outputs": [
    {
     "data": {
      "text/html": [
       "<div>\n",
       "<style scoped>\n",
       "    .dataframe tbody tr th:only-of-type {\n",
       "        vertical-align: middle;\n",
       "    }\n",
       "\n",
       "    .dataframe tbody tr th {\n",
       "        vertical-align: top;\n",
       "    }\n",
       "\n",
       "    .dataframe thead th {\n",
       "        text-align: right;\n",
       "    }\n",
       "</style>\n",
       "<table border=\"1\" class=\"dataframe\">\n",
       "  <thead>\n",
       "    <tr style=\"text-align: right;\">\n",
       "      <th></th>\n",
       "      <th>x</th>\n",
       "      <th>fx</th>\n",
       "      <th>Fx</th>\n",
       "      <th>xfx</th>\n",
       "    </tr>\n",
       "  </thead>\n",
       "  <tbody>\n",
       "    <tr>\n",
       "      <th>0</th>\n",
       "      <td>0</td>\n",
       "      <td>0.001</td>\n",
       "      <td>0.001</td>\n",
       "      <td>0.000</td>\n",
       "    </tr>\n",
       "    <tr>\n",
       "      <th>1</th>\n",
       "      <td>1</td>\n",
       "      <td>0.027</td>\n",
       "      <td>0.028</td>\n",
       "      <td>0.027</td>\n",
       "    </tr>\n",
       "    <tr>\n",
       "      <th>2</th>\n",
       "      <td>2</td>\n",
       "      <td>0.243</td>\n",
       "      <td>0.271</td>\n",
       "      <td>0.486</td>\n",
       "    </tr>\n",
       "    <tr>\n",
       "      <th>3</th>\n",
       "      <td>3</td>\n",
       "      <td>0.729</td>\n",
       "      <td>1.000</td>\n",
       "      <td>2.187</td>\n",
       "    </tr>\n",
       "  </tbody>\n",
       "</table>\n",
       "</div>"
      ],
      "text/plain": [
       "   x     fx     Fx    xfx\n",
       "0  0  0.001  0.001  0.000\n",
       "1  1  0.027  0.028  0.027\n",
       "2  2  0.243  0.271  0.486\n",
       "3  3  0.729  1.000  2.187"
      ]
     },
     "execution_count": 19,
     "metadata": {},
     "output_type": "execute_result"
    }
   ],
   "source": [
    "tabel_fx"
   ]
  },
  {
   "cell_type": "code",
   "execution_count": 20,
   "id": "51185b15-88b0-4082-a331-a22a6da32cef",
   "metadata": {},
   "outputs": [
    {
     "data": {
      "text/html": [
       "<div>\n",
       "<style scoped>\n",
       "    .dataframe tbody tr th:only-of-type {\n",
       "        vertical-align: middle;\n",
       "    }\n",
       "\n",
       "    .dataframe tbody tr th {\n",
       "        vertical-align: top;\n",
       "    }\n",
       "\n",
       "    .dataframe thead th {\n",
       "        text-align: right;\n",
       "    }\n",
       "</style>\n",
       "<table border=\"1\" class=\"dataframe\">\n",
       "  <thead>\n",
       "    <tr style=\"text-align: right;\">\n",
       "      <th></th>\n",
       "      <th>x</th>\n",
       "      <th>fx</th>\n",
       "      <th>Fx</th>\n",
       "      <th>xfx</th>\n",
       "      <th>x2</th>\n",
       "    </tr>\n",
       "  </thead>\n",
       "  <tbody>\n",
       "    <tr>\n",
       "      <th>0</th>\n",
       "      <td>0</td>\n",
       "      <td>0.001</td>\n",
       "      <td>0.001</td>\n",
       "      <td>0.000</td>\n",
       "      <td>0</td>\n",
       "    </tr>\n",
       "    <tr>\n",
       "      <th>1</th>\n",
       "      <td>1</td>\n",
       "      <td>0.027</td>\n",
       "      <td>0.028</td>\n",
       "      <td>0.027</td>\n",
       "      <td>1</td>\n",
       "    </tr>\n",
       "    <tr>\n",
       "      <th>2</th>\n",
       "      <td>2</td>\n",
       "      <td>0.243</td>\n",
       "      <td>0.271</td>\n",
       "      <td>0.486</td>\n",
       "      <td>4</td>\n",
       "    </tr>\n",
       "    <tr>\n",
       "      <th>3</th>\n",
       "      <td>3</td>\n",
       "      <td>0.729</td>\n",
       "      <td>1.000</td>\n",
       "      <td>2.187</td>\n",
       "      <td>9</td>\n",
       "    </tr>\n",
       "  </tbody>\n",
       "</table>\n",
       "</div>"
      ],
      "text/plain": [
       "   x     fx     Fx    xfx  x2\n",
       "0  0  0.001  0.001  0.000   0\n",
       "1  1  0.027  0.028  0.027   1\n",
       "2  2  0.243  0.271  0.486   4\n",
       "3  3  0.729  1.000  2.187   9"
      ]
     },
     "execution_count": 20,
     "metadata": {},
     "output_type": "execute_result"
    }
   ],
   "source": [
    "tabel_fx['x2'] = tabel_fx['x'] ** 2\n",
    "tabel_fx"
   ]
  },
  {
   "cell_type": "code",
   "execution_count": 21,
   "id": "8b57c703-10b2-46a2-a0b8-292b4910e11a",
   "metadata": {},
   "outputs": [
    {
     "data": {
      "text/html": [
       "<div>\n",
       "<style scoped>\n",
       "    .dataframe tbody tr th:only-of-type {\n",
       "        vertical-align: middle;\n",
       "    }\n",
       "\n",
       "    .dataframe tbody tr th {\n",
       "        vertical-align: top;\n",
       "    }\n",
       "\n",
       "    .dataframe thead th {\n",
       "        text-align: right;\n",
       "    }\n",
       "</style>\n",
       "<table border=\"1\" class=\"dataframe\">\n",
       "  <thead>\n",
       "    <tr style=\"text-align: right;\">\n",
       "      <th></th>\n",
       "      <th>x</th>\n",
       "      <th>fx</th>\n",
       "      <th>Fx</th>\n",
       "      <th>xfx</th>\n",
       "      <th>x2</th>\n",
       "      <th>x2fx</th>\n",
       "    </tr>\n",
       "  </thead>\n",
       "  <tbody>\n",
       "    <tr>\n",
       "      <th>0</th>\n",
       "      <td>0</td>\n",
       "      <td>0.001</td>\n",
       "      <td>0.001</td>\n",
       "      <td>0.000</td>\n",
       "      <td>0</td>\n",
       "      <td>0.000</td>\n",
       "    </tr>\n",
       "    <tr>\n",
       "      <th>1</th>\n",
       "      <td>1</td>\n",
       "      <td>0.027</td>\n",
       "      <td>0.028</td>\n",
       "      <td>0.027</td>\n",
       "      <td>1</td>\n",
       "      <td>0.027</td>\n",
       "    </tr>\n",
       "    <tr>\n",
       "      <th>2</th>\n",
       "      <td>2</td>\n",
       "      <td>0.243</td>\n",
       "      <td>0.271</td>\n",
       "      <td>0.486</td>\n",
       "      <td>4</td>\n",
       "      <td>0.972</td>\n",
       "    </tr>\n",
       "    <tr>\n",
       "      <th>3</th>\n",
       "      <td>3</td>\n",
       "      <td>0.729</td>\n",
       "      <td>1.000</td>\n",
       "      <td>2.187</td>\n",
       "      <td>9</td>\n",
       "      <td>6.561</td>\n",
       "    </tr>\n",
       "  </tbody>\n",
       "</table>\n",
       "</div>"
      ],
      "text/plain": [
       "   x     fx     Fx    xfx  x2   x2fx\n",
       "0  0  0.001  0.001  0.000   0  0.000\n",
       "1  1  0.027  0.028  0.027   1  0.027\n",
       "2  2  0.243  0.271  0.486   4  0.972\n",
       "3  3  0.729  1.000  2.187   9  6.561"
      ]
     },
     "execution_count": 21,
     "metadata": {},
     "output_type": "execute_result"
    }
   ],
   "source": [
    "tabel_fx['x2fx'] = tabel_fx['x2'] * tabel_fx['fx']\n",
    "tabel_fx"
   ]
  },
  {
   "cell_type": "code",
   "execution_count": 22,
   "id": "0ba85a5b-5ca2-4df9-82cc-3b2ee8be3fb0",
   "metadata": {},
   "outputs": [
    {
     "data": {
      "text/plain": [
       "7.5600000000000005"
      ]
     },
     "execution_count": 22,
     "metadata": {},
     "output_type": "execute_result"
    }
   ],
   "source": [
    "EX2 = tabel_fx['x2fx'].sum()\n",
    "EX2"
   ]
  },
  {
   "cell_type": "code",
   "execution_count": 23,
   "id": "22577519-1405-4172-91dd-6111a16a3e89",
   "metadata": {},
   "outputs": [
    {
     "data": {
      "text/plain": [
       "0.2699999999999996"
      ]
     },
     "execution_count": 23,
     "metadata": {},
     "output_type": "execute_result"
    }
   ],
   "source": [
    "varX = EX2 - (EX) ** 2\n",
    "varX"
   ]
  },
  {
   "cell_type": "code",
   "execution_count": 24,
   "id": "103e0650-c2c9-4fe3-a78e-20763e6631a3",
   "metadata": {},
   "outputs": [
    {
     "data": {
      "text/plain": [
       "750000.0"
      ]
     },
     "execution_count": 24,
     "metadata": {},
     "output_type": "execute_result"
    }
   ],
   "source": [
    "EX2 = (10000 ** 3 - 7000 ** 3) / 9000\n",
    "EX = 8500\n",
    "\n",
    "varX = EX2 - EX ** 2\n",
    "varX"
   ]
  },
  {
   "cell_type": "code",
   "execution_count": 25,
   "id": "58783008-6984-4a34-83cc-6f6a268ec9e6",
   "metadata": {},
   "outputs": [
    {
     "data": {
      "text/plain": [
       "750000.0"
      ]
     },
     "execution_count": 25,
     "metadata": {},
     "output_type": "execute_result"
    }
   ],
   "source": [
    "varX = 1/12*(3000) ** 2\n",
    "varX"
   ]
  }
 ],
 "metadata": {
  "kernelspec": {
   "display_name": "Python 3 (ipykernel)",
   "language": "python",
   "name": "python3"
  },
  "language_info": {
   "codemirror_mode": {
    "name": "ipython",
    "version": 3
   },
   "file_extension": ".py",
   "mimetype": "text/x-python",
   "name": "python",
   "nbconvert_exporter": "python",
   "pygments_lexer": "ipython3",
   "version": "3.11.3"
  }
 },
 "nbformat": 4,
 "nbformat_minor": 5
}
